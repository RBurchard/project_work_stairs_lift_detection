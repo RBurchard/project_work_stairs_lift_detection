{
 "cells": [
  {
   "cell_type": "code",
   "execution_count": 1,
   "id": "1993f296-10e1-4c4c-9926-09870263f295",
   "metadata": {},
   "outputs": [],
   "source": [
    "import torch\n",
    "import torch.nn as nn\n",
    "import torch.optim as optim\n",
    "from torch.utils.data import DataLoader, TensorDataset\n",
    "from sklearn.preprocessing import LabelEncoder\n",
    "import pandas as pd\n",
    "import numpy as np"
   ]
  },
  {
   "cell_type": "code",
   "execution_count": 3,
   "id": "bfe04661-6b7e-435a-bb6d-8f9ac2f2bf11",
   "metadata": {},
   "outputs": [],
   "source": [
    "datadir = '../Collected Data/preprocessed/'"
   ]
  },
  {
   "cell_type": "code",
   "execution_count": 4,
   "id": "7a65d11a-3ad8-4596-bef0-9a8d47036190",
   "metadata": {},
   "outputs": [
    {
     "data": {
      "text/html": [
       "<div>\n",
       "<style scoped>\n",
       "    .dataframe tbody tr th:only-of-type {\n",
       "        vertical-align: middle;\n",
       "    }\n",
       "\n",
       "    .dataframe tbody tr th {\n",
       "        vertical-align: top;\n",
       "    }\n",
       "\n",
       "    .dataframe thead th {\n",
       "        text-align: right;\n",
       "    }\n",
       "</style>\n",
       "<table border=\"1\" class=\"dataframe\">\n",
       "  <thead>\n",
       "    <tr style=\"text-align: right;\">\n",
       "      <th></th>\n",
       "      <th>avg_accX</th>\n",
       "      <th>min_accX</th>\n",
       "      <th>max_accX</th>\n",
       "      <th>var_accX</th>\n",
       "      <th>avg_accY</th>\n",
       "      <th>min_accY</th>\n",
       "      <th>max_accY</th>\n",
       "      <th>var_accY</th>\n",
       "      <th>avg_accZ</th>\n",
       "      <th>min_accZ</th>\n",
       "      <th>...</th>\n",
       "      <th>var_accZ</th>\n",
       "      <th>avg_magnitude</th>\n",
       "      <th>min_magnitude</th>\n",
       "      <th>max_magnitude</th>\n",
       "      <th>var_magnitude</th>\n",
       "      <th>avg_pressure</th>\n",
       "      <th>min_pressure</th>\n",
       "      <th>max_pressure</th>\n",
       "      <th>var_pressure</th>\n",
       "      <th>label</th>\n",
       "    </tr>\n",
       "  </thead>\n",
       "  <tbody>\n",
       "    <tr>\n",
       "      <th>0</th>\n",
       "      <td>-1.001886</td>\n",
       "      <td>-1.055542</td>\n",
       "      <td>-0.997314</td>\n",
       "      <td>0.000078</td>\n",
       "      <td>0.129964</td>\n",
       "      <td>0.113281</td>\n",
       "      <td>0.181152</td>\n",
       "      <td>0.000192</td>\n",
       "      <td>-0.012829</td>\n",
       "      <td>-0.026855</td>\n",
       "      <td>...</td>\n",
       "      <td>0.000195</td>\n",
       "      <td>1.010539</td>\n",
       "      <td>1.005311</td>\n",
       "      <td>1.071143</td>\n",
       "      <td>0.000098</td>\n",
       "      <td>972.634906</td>\n",
       "      <td>972.628618</td>\n",
       "      <td>972.643121</td>\n",
       "      <td>0.000014</td>\n",
       "      <td>N</td>\n",
       "    </tr>\n",
       "    <tr>\n",
       "      <th>1</th>\n",
       "      <td>-0.671724</td>\n",
       "      <td>-1.251709</td>\n",
       "      <td>-0.221558</td>\n",
       "      <td>0.147100</td>\n",
       "      <td>0.582546</td>\n",
       "      <td>0.181152</td>\n",
       "      <td>0.857910</td>\n",
       "      <td>0.042282</td>\n",
       "      <td>-0.175347</td>\n",
       "      <td>-0.472534</td>\n",
       "      <td>...</td>\n",
       "      <td>0.042240</td>\n",
       "      <td>1.009968</td>\n",
       "      <td>0.739978</td>\n",
       "      <td>1.305443</td>\n",
       "      <td>0.028850</td>\n",
       "      <td>972.902315</td>\n",
       "      <td>972.643121</td>\n",
       "      <td>973.129535</td>\n",
       "      <td>0.040889</td>\n",
       "      <td>N</td>\n",
       "    </tr>\n",
       "    <tr>\n",
       "      <th>2</th>\n",
       "      <td>-0.397659</td>\n",
       "      <td>-0.471558</td>\n",
       "      <td>-0.273193</td>\n",
       "      <td>0.001757</td>\n",
       "      <td>0.888291</td>\n",
       "      <td>0.778931</td>\n",
       "      <td>0.992798</td>\n",
       "      <td>0.002689</td>\n",
       "      <td>-0.085164</td>\n",
       "      <td>-0.458252</td>\n",
       "      <td>...</td>\n",
       "      <td>0.074113</td>\n",
       "      <td>1.015058</td>\n",
       "      <td>0.954359</td>\n",
       "      <td>1.076219</td>\n",
       "      <td>0.001113</td>\n",
       "      <td>972.595858</td>\n",
       "      <td>972.498928</td>\n",
       "      <td>972.808610</td>\n",
       "      <td>0.010962</td>\n",
       "      <td>N</td>\n",
       "    </tr>\n",
       "    <tr>\n",
       "      <th>3</th>\n",
       "      <td>-0.321914</td>\n",
       "      <td>-0.505981</td>\n",
       "      <td>-0.210938</td>\n",
       "      <td>0.011940</td>\n",
       "      <td>0.961016</td>\n",
       "      <td>0.715332</td>\n",
       "      <td>1.166748</td>\n",
       "      <td>0.019437</td>\n",
       "      <td>0.168530</td>\n",
       "      <td>-0.130005</td>\n",
       "      <td>...</td>\n",
       "      <td>0.028908</td>\n",
       "      <td>1.049457</td>\n",
       "      <td>0.849687</td>\n",
       "      <td>1.216070</td>\n",
       "      <td>0.013574</td>\n",
       "      <td>972.587867</td>\n",
       "      <td>972.520764</td>\n",
       "      <td>972.892723</td>\n",
       "      <td>0.009303</td>\n",
       "      <td>N</td>\n",
       "    </tr>\n",
       "    <tr>\n",
       "      <th>4</th>\n",
       "      <td>-0.437627</td>\n",
       "      <td>-1.404663</td>\n",
       "      <td>-0.036377</td>\n",
       "      <td>0.176771</td>\n",
       "      <td>0.702866</td>\n",
       "      <td>0.223267</td>\n",
       "      <td>1.049805</td>\n",
       "      <td>0.061700</td>\n",
       "      <td>-0.218762</td>\n",
       "      <td>-0.548462</td>\n",
       "      <td>...</td>\n",
       "      <td>0.056466</td>\n",
       "      <td>0.984485</td>\n",
       "      <td>0.594284</td>\n",
       "      <td>1.474214</td>\n",
       "      <td>0.054309</td>\n",
       "      <td>972.609129</td>\n",
       "      <td>972.441795</td>\n",
       "      <td>972.892723</td>\n",
       "      <td>0.025621</td>\n",
       "      <td>N</td>\n",
       "    </tr>\n",
       "  </tbody>\n",
       "</table>\n",
       "<p>5 rows × 21 columns</p>\n",
       "</div>"
      ],
      "text/plain": [
       "   avg_accX  min_accX  max_accX  var_accX  avg_accY  min_accY  max_accY  \\\n",
       "0 -1.001886 -1.055542 -0.997314  0.000078  0.129964  0.113281  0.181152   \n",
       "1 -0.671724 -1.251709 -0.221558  0.147100  0.582546  0.181152  0.857910   \n",
       "2 -0.397659 -0.471558 -0.273193  0.001757  0.888291  0.778931  0.992798   \n",
       "3 -0.321914 -0.505981 -0.210938  0.011940  0.961016  0.715332  1.166748   \n",
       "4 -0.437627 -1.404663 -0.036377  0.176771  0.702866  0.223267  1.049805   \n",
       "\n",
       "   var_accY  avg_accZ  min_accZ  ...  var_accZ  avg_magnitude  min_magnitude  \\\n",
       "0  0.000192 -0.012829 -0.026855  ...  0.000195       1.010539       1.005311   \n",
       "1  0.042282 -0.175347 -0.472534  ...  0.042240       1.009968       0.739978   \n",
       "2  0.002689 -0.085164 -0.458252  ...  0.074113       1.015058       0.954359   \n",
       "3  0.019437  0.168530 -0.130005  ...  0.028908       1.049457       0.849687   \n",
       "4  0.061700 -0.218762 -0.548462  ...  0.056466       0.984485       0.594284   \n",
       "\n",
       "   max_magnitude  var_magnitude  avg_pressure  min_pressure  max_pressure  \\\n",
       "0       1.071143       0.000098    972.634906    972.628618    972.643121   \n",
       "1       1.305443       0.028850    972.902315    972.643121    973.129535   \n",
       "2       1.076219       0.001113    972.595858    972.498928    972.808610   \n",
       "3       1.216070       0.013574    972.587867    972.520764    972.892723   \n",
       "4       1.474214       0.054309    972.609129    972.441795    972.892723   \n",
       "\n",
       "   var_pressure  label  \n",
       "0      0.000014      N  \n",
       "1      0.040889      N  \n",
       "2      0.010962      N  \n",
       "3      0.009303      N  \n",
       "4      0.025621      N  \n",
       "\n",
       "[5 rows x 21 columns]"
      ]
     },
     "execution_count": 4,
     "metadata": {},
     "output_type": "execute_result"
    }
   ],
   "source": [
    "df = pd.read_csv(datadir+'preprocessed_data.csv')\n",
    "df.head()"
   ]
  },
  {
   "cell_type": "code",
   "execution_count": 18,
   "id": "39567aaa-8706-49b5-bda3-a6a6822c35e4",
   "metadata": {},
   "outputs": [],
   "source": [
    "X = df[['avg_accX','min_accX','max_accX','var_accX','avg_accY','min_accY','max_accY','var_accY','avg_accZ','min_accZ','max_accZ','var_accZ','avg_magnitude','min_magnitude','max_magnitude','var_magnitude','avg_pressure','min_pressure','max_pressure','var_pressure']].values"
   ]
  },
  {
   "cell_type": "code",
   "execution_count": 20,
   "id": "1451fb8e-8bee-4d2c-a46b-18ee5bf5775d",
   "metadata": {},
   "outputs": [
    {
     "data": {
      "text/plain": [
       "array([-1.00188628e+00, -1.05554199e+00, -9.97314453e-01,  7.82857598e-05,\n",
       "        1.29964193e-01,  1.13281250e-01,  1.81152344e-01,  1.91566905e-04,\n",
       "       -1.28290086e-02, -2.68554688e-02,  2.05078125e-02,  1.94650459e-04,\n",
       "        1.01053900e+00,  1.00531052e+00,  1.07114318e+00,  9.80876687e-05,\n",
       "        9.72634906e+02,  9.72628618e+02,  9.72643121e+02,  1.41661535e-05])"
      ]
     },
     "execution_count": 20,
     "metadata": {},
     "output_type": "execute_result"
    }
   ],
   "source": [
    "X[0]\n"
   ]
  },
  {
   "cell_type": "code",
   "execution_count": 21,
   "id": "df23dd7f-9a68-4e9d-8f9e-62ebd018002b",
   "metadata": {},
   "outputs": [],
   "source": [
    "y = df['label'].values"
   ]
  },
  {
   "cell_type": "code",
   "execution_count": 22,
   "id": "bfbe93b6-03a5-4865-b714-7eb295a20aab",
   "metadata": {},
   "outputs": [],
   "source": [
    "label_encoder = LabelEncoder()\n",
    "y_encoded = label_encoder.fit_transform(y)"
   ]
  },
  {
   "cell_type": "code",
   "execution_count": 29,
   "id": "06b5fd2d-4af3-44b5-835e-b28d78627240",
   "metadata": {},
   "outputs": [
    {
     "data": {
      "text/plain": [
       "'cuda'"
      ]
     },
     "execution_count": 29,
     "metadata": {},
     "output_type": "execute_result"
    }
   ],
   "source": [
    "torch.manual_seed(42)\n",
    "device = 'cuda' if torch.cuda.is_available() else 'cpu'\n",
    "device"
   ]
  },
  {
   "cell_type": "code",
   "execution_count": 30,
   "id": "1dbfaac5-aab8-4436-a605-48ba55d617e9",
   "metadata": {},
   "outputs": [],
   "source": [
    "X_tensor = torch.tensor(X, dtype=torch.float32).to(device)\n",
    "y_tensor = torch.tensor(y_encoded, dtype=torch.long).to(device)"
   ]
  },
  {
   "cell_type": "code",
   "execution_count": 31,
   "id": "fcc3d5ac-9467-43ca-964d-57edf9780afc",
   "metadata": {},
   "outputs": [
    {
     "data": {
      "text/plain": [
       "(tensor([[-1.0019e+00, -1.0555e+00, -9.9731e-01,  ...,  9.7263e+02,\n",
       "           9.7264e+02,  1.4166e-05],\n",
       "         [-6.7172e-01, -1.2517e+00, -2.2156e-01,  ...,  9.7264e+02,\n",
       "           9.7313e+02,  4.0889e-02],\n",
       "         [-3.9766e-01, -4.7156e-01, -2.7319e-01,  ...,  9.7250e+02,\n",
       "           9.7281e+02,  1.0962e-02],\n",
       "         ...,\n",
       "         [-2.0689e-01, -2.2705e-01, -1.8311e-01,  ...,  9.7318e+02,\n",
       "           9.7324e+02,  3.7111e-04],\n",
       "         [-1.6399e-01, -1.9983e-01, -1.2549e-01,  ...,  9.7318e+02,\n",
       "           9.7326e+02,  5.4642e-04],\n",
       "         [-1.3223e-01, -1.3647e-01, -1.2061e-01,  ...,  9.7320e+02,\n",
       "           9.7323e+02,  1.1300e-04]], device='cuda:0'),\n",
       " tensor([2, 2, 2,  ..., 2, 2, 2], device='cuda:0'))"
      ]
     },
     "execution_count": 31,
     "metadata": {},
     "output_type": "execute_result"
    }
   ],
   "source": [
    "X_tensor, y_tensor"
   ]
  },
  {
   "cell_type": "code",
   "execution_count": 32,
   "id": "d690a8b9-94c8-486d-8dfa-f0c9e08045a5",
   "metadata": {},
   "outputs": [],
   "source": [
    "dataset = TensorDataset(X_tensor, y_tensor)\n",
    "train_loader = DataLoader(dataset, batch_size=32, shuffle=True)"
   ]
  },
  {
   "cell_type": "code",
   "execution_count": 42,
   "id": "089d4e0a-73e3-4a0e-b5af-163afe3a49bc",
   "metadata": {},
   "outputs": [],
   "source": [
    "class LSTMModel(nn.Module):\n",
    "    def __init__(self, input_size, hidden_size, num_layers, num_classes):\n",
    "        super(LSTMModel, self).__init__()\n",
    "        self.lstm = nn.LSTM(input_size, hidden_size, num_layers, batch_first=True)\n",
    "        self.fc = nn.Linear(hidden_size, num_classes)\n",
    "        \n",
    "    def forward(self, x):\n",
    "        out, _ = self.lstm(x)\n",
    "        out = self.fc(out[:, -1])  # Use the last output of the sequence\n",
    "        return out"
   ]
  },
  {
   "cell_type": "code",
   "execution_count": 36,
   "id": "5a2d2d51-832b-4d33-b9bd-d991b9b5e9a1",
   "metadata": {},
   "outputs": [],
   "source": [
    "input_size = 20  # Number of features (accX, accY, accZ, Magnitude, Pressure)\n",
    "hidden_size = 32\n",
    "num_layers = 2\n",
    "num_classes = 5  # Number of output classes"
   ]
  },
  {
   "cell_type": "code",
   "execution_count": 43,
   "id": "808f3ab1-bc5f-4234-8996-512cd0b95e0d",
   "metadata": {},
   "outputs": [],
   "source": [
    "model = LSTMModel(input_size, hidden_size, num_layers, num_classes).to(device)"
   ]
  },
  {
   "cell_type": "code",
   "execution_count": 38,
   "id": "085a7830-da66-4f84-bcac-2bf756c48595",
   "metadata": {},
   "outputs": [],
   "source": [
    "criterion = nn.CrossEntropyLoss()\n",
    "optimizer = optim.Adam(model.parameters(), lr=0.001)"
   ]
  },
  {
   "cell_type": "code",
   "execution_count": 44,
   "id": "b2f3b704-6539-4d26-a4ca-90ba2c7edf5f",
   "metadata": {},
   "outputs": [
    {
     "ename": "RuntimeError",
     "evalue": "mat1 and mat2 shapes cannot be multiplied (1x32 and 64x5)",
     "output_type": "error",
     "traceback": [
      "\u001b[1;31m---------------------------------------------------------------------------\u001b[0m",
      "\u001b[1;31mRuntimeError\u001b[0m                              Traceback (most recent call last)",
      "Cell \u001b[1;32mIn[44], line 7\u001b[0m\n\u001b[0;32m      5\u001b[0m \u001b[38;5;28;01mfor\u001b[39;00m batch_x, batch_y \u001b[38;5;129;01min\u001b[39;00m train_loader:\n\u001b[0;32m      6\u001b[0m     optimizer\u001b[38;5;241m.\u001b[39mzero_grad()\n\u001b[1;32m----> 7\u001b[0m     outputs \u001b[38;5;241m=\u001b[39m \u001b[43mmodel\u001b[49m\u001b[43m(\u001b[49m\u001b[43mbatch_x\u001b[49m\u001b[43m)\u001b[49m\n\u001b[0;32m      8\u001b[0m     loss \u001b[38;5;241m=\u001b[39m criterion(outputs, batch_y)\n\u001b[0;32m      9\u001b[0m     loss\u001b[38;5;241m.\u001b[39mbackward()\n",
      "File \u001b[1;32m~\\anaconda3\\envs\\MyEnv\\lib\\site-packages\\torch\\nn\\modules\\module.py:1511\u001b[0m, in \u001b[0;36mModule._wrapped_call_impl\u001b[1;34m(self, *args, **kwargs)\u001b[0m\n\u001b[0;32m   1509\u001b[0m     \u001b[38;5;28;01mreturn\u001b[39;00m \u001b[38;5;28mself\u001b[39m\u001b[38;5;241m.\u001b[39m_compiled_call_impl(\u001b[38;5;241m*\u001b[39margs, \u001b[38;5;241m*\u001b[39m\u001b[38;5;241m*\u001b[39mkwargs)  \u001b[38;5;66;03m# type: ignore[misc]\u001b[39;00m\n\u001b[0;32m   1510\u001b[0m \u001b[38;5;28;01melse\u001b[39;00m:\n\u001b[1;32m-> 1511\u001b[0m     \u001b[38;5;28;01mreturn\u001b[39;00m \u001b[38;5;28mself\u001b[39m\u001b[38;5;241m.\u001b[39m_call_impl(\u001b[38;5;241m*\u001b[39margs, \u001b[38;5;241m*\u001b[39m\u001b[38;5;241m*\u001b[39mkwargs)\n",
      "File \u001b[1;32m~\\anaconda3\\envs\\MyEnv\\lib\\site-packages\\torch\\nn\\modules\\module.py:1520\u001b[0m, in \u001b[0;36mModule._call_impl\u001b[1;34m(self, *args, **kwargs)\u001b[0m\n\u001b[0;32m   1515\u001b[0m \u001b[38;5;66;03m# If we don't have any hooks, we want to skip the rest of the logic in\u001b[39;00m\n\u001b[0;32m   1516\u001b[0m \u001b[38;5;66;03m# this function, and just call forward.\u001b[39;00m\n\u001b[0;32m   1517\u001b[0m \u001b[38;5;28;01mif\u001b[39;00m \u001b[38;5;129;01mnot\u001b[39;00m (\u001b[38;5;28mself\u001b[39m\u001b[38;5;241m.\u001b[39m_backward_hooks \u001b[38;5;129;01mor\u001b[39;00m \u001b[38;5;28mself\u001b[39m\u001b[38;5;241m.\u001b[39m_backward_pre_hooks \u001b[38;5;129;01mor\u001b[39;00m \u001b[38;5;28mself\u001b[39m\u001b[38;5;241m.\u001b[39m_forward_hooks \u001b[38;5;129;01mor\u001b[39;00m \u001b[38;5;28mself\u001b[39m\u001b[38;5;241m.\u001b[39m_forward_pre_hooks\n\u001b[0;32m   1518\u001b[0m         \u001b[38;5;129;01mor\u001b[39;00m _global_backward_pre_hooks \u001b[38;5;129;01mor\u001b[39;00m _global_backward_hooks\n\u001b[0;32m   1519\u001b[0m         \u001b[38;5;129;01mor\u001b[39;00m _global_forward_hooks \u001b[38;5;129;01mor\u001b[39;00m _global_forward_pre_hooks):\n\u001b[1;32m-> 1520\u001b[0m     \u001b[38;5;28;01mreturn\u001b[39;00m forward_call(\u001b[38;5;241m*\u001b[39margs, \u001b[38;5;241m*\u001b[39m\u001b[38;5;241m*\u001b[39mkwargs)\n\u001b[0;32m   1522\u001b[0m \u001b[38;5;28;01mtry\u001b[39;00m:\n\u001b[0;32m   1523\u001b[0m     result \u001b[38;5;241m=\u001b[39m \u001b[38;5;28;01mNone\u001b[39;00m\n",
      "Cell \u001b[1;32mIn[42], line 9\u001b[0m, in \u001b[0;36mLSTMModel.forward\u001b[1;34m(self, x)\u001b[0m\n\u001b[0;32m      7\u001b[0m \u001b[38;5;28;01mdef\u001b[39;00m \u001b[38;5;21mforward\u001b[39m(\u001b[38;5;28mself\u001b[39m, x):\n\u001b[0;32m      8\u001b[0m     out, _ \u001b[38;5;241m=\u001b[39m \u001b[38;5;28mself\u001b[39m\u001b[38;5;241m.\u001b[39mlstm(x)\n\u001b[1;32m----> 9\u001b[0m     out \u001b[38;5;241m=\u001b[39m \u001b[38;5;28;43mself\u001b[39;49m\u001b[38;5;241;43m.\u001b[39;49m\u001b[43mfc\u001b[49m\u001b[43m(\u001b[49m\u001b[43mout\u001b[49m\u001b[43m[\u001b[49m\u001b[43m:\u001b[49m\u001b[43m,\u001b[49m\u001b[43m \u001b[49m\u001b[38;5;241;43m-\u001b[39;49m\u001b[38;5;241;43m1\u001b[39;49m\u001b[43m]\u001b[49m\u001b[43m)\u001b[49m  \u001b[38;5;66;03m# Use the last output of the sequence\u001b[39;00m\n\u001b[0;32m     10\u001b[0m     \u001b[38;5;28;01mreturn\u001b[39;00m out\n",
      "File \u001b[1;32m~\\anaconda3\\envs\\MyEnv\\lib\\site-packages\\torch\\nn\\modules\\module.py:1511\u001b[0m, in \u001b[0;36mModule._wrapped_call_impl\u001b[1;34m(self, *args, **kwargs)\u001b[0m\n\u001b[0;32m   1509\u001b[0m     \u001b[38;5;28;01mreturn\u001b[39;00m \u001b[38;5;28mself\u001b[39m\u001b[38;5;241m.\u001b[39m_compiled_call_impl(\u001b[38;5;241m*\u001b[39margs, \u001b[38;5;241m*\u001b[39m\u001b[38;5;241m*\u001b[39mkwargs)  \u001b[38;5;66;03m# type: ignore[misc]\u001b[39;00m\n\u001b[0;32m   1510\u001b[0m \u001b[38;5;28;01melse\u001b[39;00m:\n\u001b[1;32m-> 1511\u001b[0m     \u001b[38;5;28;01mreturn\u001b[39;00m \u001b[38;5;28mself\u001b[39m\u001b[38;5;241m.\u001b[39m_call_impl(\u001b[38;5;241m*\u001b[39margs, \u001b[38;5;241m*\u001b[39m\u001b[38;5;241m*\u001b[39mkwargs)\n",
      "File \u001b[1;32m~\\anaconda3\\envs\\MyEnv\\lib\\site-packages\\torch\\nn\\modules\\module.py:1520\u001b[0m, in \u001b[0;36mModule._call_impl\u001b[1;34m(self, *args, **kwargs)\u001b[0m\n\u001b[0;32m   1515\u001b[0m \u001b[38;5;66;03m# If we don't have any hooks, we want to skip the rest of the logic in\u001b[39;00m\n\u001b[0;32m   1516\u001b[0m \u001b[38;5;66;03m# this function, and just call forward.\u001b[39;00m\n\u001b[0;32m   1517\u001b[0m \u001b[38;5;28;01mif\u001b[39;00m \u001b[38;5;129;01mnot\u001b[39;00m (\u001b[38;5;28mself\u001b[39m\u001b[38;5;241m.\u001b[39m_backward_hooks \u001b[38;5;129;01mor\u001b[39;00m \u001b[38;5;28mself\u001b[39m\u001b[38;5;241m.\u001b[39m_backward_pre_hooks \u001b[38;5;129;01mor\u001b[39;00m \u001b[38;5;28mself\u001b[39m\u001b[38;5;241m.\u001b[39m_forward_hooks \u001b[38;5;129;01mor\u001b[39;00m \u001b[38;5;28mself\u001b[39m\u001b[38;5;241m.\u001b[39m_forward_pre_hooks\n\u001b[0;32m   1518\u001b[0m         \u001b[38;5;129;01mor\u001b[39;00m _global_backward_pre_hooks \u001b[38;5;129;01mor\u001b[39;00m _global_backward_hooks\n\u001b[0;32m   1519\u001b[0m         \u001b[38;5;129;01mor\u001b[39;00m _global_forward_hooks \u001b[38;5;129;01mor\u001b[39;00m _global_forward_pre_hooks):\n\u001b[1;32m-> 1520\u001b[0m     \u001b[38;5;28;01mreturn\u001b[39;00m forward_call(\u001b[38;5;241m*\u001b[39margs, \u001b[38;5;241m*\u001b[39m\u001b[38;5;241m*\u001b[39mkwargs)\n\u001b[0;32m   1522\u001b[0m \u001b[38;5;28;01mtry\u001b[39;00m:\n\u001b[0;32m   1523\u001b[0m     result \u001b[38;5;241m=\u001b[39m \u001b[38;5;28;01mNone\u001b[39;00m\n",
      "File \u001b[1;32m~\\anaconda3\\envs\\MyEnv\\lib\\site-packages\\torch\\nn\\modules\\linear.py:116\u001b[0m, in \u001b[0;36mLinear.forward\u001b[1;34m(self, input)\u001b[0m\n\u001b[0;32m    115\u001b[0m \u001b[38;5;28;01mdef\u001b[39;00m \u001b[38;5;21mforward\u001b[39m(\u001b[38;5;28mself\u001b[39m, \u001b[38;5;28minput\u001b[39m: Tensor) \u001b[38;5;241m-\u001b[39m\u001b[38;5;241m>\u001b[39m Tensor:\n\u001b[1;32m--> 116\u001b[0m     \u001b[38;5;28;01mreturn\u001b[39;00m \u001b[43mF\u001b[49m\u001b[38;5;241;43m.\u001b[39;49m\u001b[43mlinear\u001b[49m\u001b[43m(\u001b[49m\u001b[38;5;28;43minput\u001b[39;49m\u001b[43m,\u001b[49m\u001b[43m \u001b[49m\u001b[38;5;28;43mself\u001b[39;49m\u001b[38;5;241;43m.\u001b[39;49m\u001b[43mweight\u001b[49m\u001b[43m,\u001b[49m\u001b[43m \u001b[49m\u001b[38;5;28;43mself\u001b[39;49m\u001b[38;5;241;43m.\u001b[39;49m\u001b[43mbias\u001b[49m\u001b[43m)\u001b[49m\n",
      "\u001b[1;31mRuntimeError\u001b[0m: mat1 and mat2 shapes cannot be multiplied (1x32 and 64x5)"
     ]
    }
   ],
   "source": [
    "num_epochs = 10\n",
    "\n",
    "for epoch in range(num_epochs):\n",
    "    model.train()\n",
    "    for batch_x, batch_y in train_loader:\n",
    "        optimizer.zero_grad()\n",
    "        outputs = model(batch_x)\n",
    "        loss = criterion(outputs, batch_y)\n",
    "        loss.backward()\n",
    "        optimizer.step()\n",
    "    \n",
    "    print(f'Epoch [{epoch+1}/{num_epochs}], Loss: {loss.item()}')"
   ]
  },
  {
   "cell_type": "code",
   "execution_count": null,
   "id": "7f10e454-27aa-4a7d-abd9-34ac499a2ced",
   "metadata": {},
   "outputs": [],
   "source": []
  },
  {
   "cell_type": "code",
   "execution_count": null,
   "id": "01bc5497-25b3-41f7-b137-3956a63b6150",
   "metadata": {},
   "outputs": [],
   "source": []
  },
  {
   "cell_type": "code",
   "execution_count": null,
   "id": "139c9bc4-8a06-42d8-85e3-e66b5dc113af",
   "metadata": {},
   "outputs": [],
   "source": []
  }
 ],
 "metadata": {
  "kernelspec": {
   "display_name": "Python 3 (ipykernel)",
   "language": "python",
   "name": "python3"
  },
  "language_info": {
   "codemirror_mode": {
    "name": "ipython",
    "version": 3
   },
   "file_extension": ".py",
   "mimetype": "text/x-python",
   "name": "python",
   "nbconvert_exporter": "python",
   "pygments_lexer": "ipython3",
   "version": "3.9.19"
  }
 },
 "nbformat": 4,
 "nbformat_minor": 5
}
