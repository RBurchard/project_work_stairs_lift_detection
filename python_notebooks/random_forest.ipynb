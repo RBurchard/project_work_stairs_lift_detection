{
 "cells": [
  {
   "cell_type": "code",
   "execution_count": 99,
   "id": "d5ab7054-9415-47c5-aaa6-c6f62aeb740b",
   "metadata": {},
   "outputs": [],
   "source": [
    "import pandas as pd\n",
    "from sklearn.model_selection import train_test_split\n",
    "from sklearn.ensemble import RandomForestClassifier\n",
    "from sklearn.metrics import accuracy_score\n",
    "from sklearn.model_selection import GridSearchCV\n",
    "from sklearn.preprocessing import LabelEncoder\n",
    "\n",
    "test_participant = 20"
   ]
  },
  {
   "cell_type": "code",
   "execution_count": 100,
   "id": "687573cf-e15e-4429-bbcb-bee702081e4c",
   "metadata": {},
   "outputs": [
    {
     "data": {
      "text/html": [
       "<div>\n",
       "<style scoped>\n",
       "    .dataframe tbody tr th:only-of-type {\n",
       "        vertical-align: middle;\n",
       "    }\n",
       "\n",
       "    .dataframe tbody tr th {\n",
       "        vertical-align: top;\n",
       "    }\n",
       "\n",
       "    .dataframe thead th {\n",
       "        text-align: right;\n",
       "    }\n",
       "</style>\n",
       "<table border=\"1\" class=\"dataframe\">\n",
       "  <thead>\n",
       "    <tr style=\"text-align: right;\">\n",
       "      <th></th>\n",
       "      <th>avg_accX</th>\n",
       "      <th>min_accX</th>\n",
       "      <th>max_accX</th>\n",
       "      <th>var_accX</th>\n",
       "      <th>std_accX</th>\n",
       "      <th>avg_accY</th>\n",
       "      <th>min_accY</th>\n",
       "      <th>max_accY</th>\n",
       "      <th>var_accY</th>\n",
       "      <th>std_accY</th>\n",
       "      <th>...</th>\n",
       "      <th>avg_pressure</th>\n",
       "      <th>min_pressure</th>\n",
       "      <th>max_pressure</th>\n",
       "      <th>var_pressure</th>\n",
       "      <th>range_pressure</th>\n",
       "      <th>std_pressure</th>\n",
       "      <th>slope_pressure</th>\n",
       "      <th>kurtosis_pressure</th>\n",
       "      <th>Interqartile_percentage_Pressure</th>\n",
       "      <th>skew_pressure</th>\n",
       "    </tr>\n",
       "  </thead>\n",
       "  <tbody>\n",
       "    <tr>\n",
       "      <th>7765</th>\n",
       "      <td>-0.773865</td>\n",
       "      <td>-1.334839</td>\n",
       "      <td>-0.460693</td>\n",
       "      <td>0.034093</td>\n",
       "      <td>0.184180</td>\n",
       "      <td>0.010675</td>\n",
       "      <td>-0.305542</td>\n",
       "      <td>0.178467</td>\n",
       "      <td>0.013334</td>\n",
       "      <td>0.115183</td>\n",
       "      <td>...</td>\n",
       "      <td>974.562696</td>\n",
       "      <td>974.305675</td>\n",
       "      <td>974.941654</td>\n",
       "      <td>0.022076</td>\n",
       "      <td>0.635979</td>\n",
       "      <td>0.148209</td>\n",
       "      <td>0.000264</td>\n",
       "      <td>0.056936</td>\n",
       "      <td>0.189799</td>\n",
       "      <td>0.609047</td>\n",
       "    </tr>\n",
       "    <tr>\n",
       "      <th>7766</th>\n",
       "      <td>-0.802524</td>\n",
       "      <td>-1.200439</td>\n",
       "      <td>-0.459473</td>\n",
       "      <td>0.032913</td>\n",
       "      <td>0.180966</td>\n",
       "      <td>0.056221</td>\n",
       "      <td>-0.144409</td>\n",
       "      <td>0.205200</td>\n",
       "      <td>0.008546</td>\n",
       "      <td>0.092214</td>\n",
       "      <td>...</td>\n",
       "      <td>974.801238</td>\n",
       "      <td>974.589560</td>\n",
       "      <td>975.141330</td>\n",
       "      <td>0.014732</td>\n",
       "      <td>0.551770</td>\n",
       "      <td>0.121074</td>\n",
       "      <td>0.000439</td>\n",
       "      <td>0.798906</td>\n",
       "      <td>0.149817</td>\n",
       "      <td>0.756359</td>\n",
       "    </tr>\n",
       "    <tr>\n",
       "      <th>7767</th>\n",
       "      <td>-0.065311</td>\n",
       "      <td>-1.114380</td>\n",
       "      <td>0.796143</td>\n",
       "      <td>0.460808</td>\n",
       "      <td>0.674776</td>\n",
       "      <td>0.339815</td>\n",
       "      <td>-0.041260</td>\n",
       "      <td>1.050781</td>\n",
       "      <td>0.110099</td>\n",
       "      <td>0.329831</td>\n",
       "      <td>...</td>\n",
       "      <td>975.047464</td>\n",
       "      <td>974.783900</td>\n",
       "      <td>975.285295</td>\n",
       "      <td>0.017133</td>\n",
       "      <td>0.501395</td>\n",
       "      <td>0.130110</td>\n",
       "      <td>0.003139</td>\n",
       "      <td>-0.713406</td>\n",
       "      <td>0.190609</td>\n",
       "      <td>0.092571</td>\n",
       "    </tr>\n",
       "    <tr>\n",
       "      <th>7768</th>\n",
       "      <td>-0.101199</td>\n",
       "      <td>-0.367554</td>\n",
       "      <td>0.250977</td>\n",
       "      <td>0.054057</td>\n",
       "      <td>0.231755</td>\n",
       "      <td>-0.006255</td>\n",
       "      <td>-0.217163</td>\n",
       "      <td>0.222290</td>\n",
       "      <td>0.006255</td>\n",
       "      <td>0.078838</td>\n",
       "      <td>...</td>\n",
       "      <td>974.337777</td>\n",
       "      <td>974.049544</td>\n",
       "      <td>974.714518</td>\n",
       "      <td>0.039974</td>\n",
       "      <td>0.664974</td>\n",
       "      <td>0.199294</td>\n",
       "      <td>-0.003342</td>\n",
       "      <td>-1.027596</td>\n",
       "      <td>0.310558</td>\n",
       "      <td>0.442752</td>\n",
       "    </tr>\n",
       "    <tr>\n",
       "      <th>7769</th>\n",
       "      <td>-0.263720</td>\n",
       "      <td>-0.287964</td>\n",
       "      <td>-0.250610</td>\n",
       "      <td>0.000082</td>\n",
       "      <td>0.009005</td>\n",
       "      <td>0.048271</td>\n",
       "      <td>-0.012573</td>\n",
       "      <td>0.079590</td>\n",
       "      <td>0.001198</td>\n",
       "      <td>0.034459</td>\n",
       "      <td>...</td>\n",
       "      <td>974.344251</td>\n",
       "      <td>974.235140</td>\n",
       "      <td>974.404892</td>\n",
       "      <td>0.001170</td>\n",
       "      <td>0.169752</td>\n",
       "      <td>0.034056</td>\n",
       "      <td>0.000349</td>\n",
       "      <td>0.286911</td>\n",
       "      <td>0.035707</td>\n",
       "      <td>-0.506659</td>\n",
       "    </tr>\n",
       "  </tbody>\n",
       "</table>\n",
       "<p>5 rows × 30 columns</p>\n",
       "</div>"
      ],
      "text/plain": [
       "      avg_accX  min_accX  max_accX  var_accX  std_accX  avg_accY  min_accY  \\\n",
       "7765 -0.773865 -1.334839 -0.460693  0.034093  0.184180  0.010675 -0.305542   \n",
       "7766 -0.802524 -1.200439 -0.459473  0.032913  0.180966  0.056221 -0.144409   \n",
       "7767 -0.065311 -1.114380  0.796143  0.460808  0.674776  0.339815 -0.041260   \n",
       "7768 -0.101199 -0.367554  0.250977  0.054057  0.231755 -0.006255 -0.217163   \n",
       "7769 -0.263720 -0.287964 -0.250610  0.000082  0.009005  0.048271 -0.012573   \n",
       "\n",
       "      max_accY  var_accY  std_accY  ...  avg_pressure  min_pressure  \\\n",
       "7765  0.178467  0.013334  0.115183  ...    974.562696    974.305675   \n",
       "7766  0.205200  0.008546  0.092214  ...    974.801238    974.589560   \n",
       "7767  1.050781  0.110099  0.329831  ...    975.047464    974.783900   \n",
       "7768  0.222290  0.006255  0.078838  ...    974.337777    974.049544   \n",
       "7769  0.079590  0.001198  0.034459  ...    974.344251    974.235140   \n",
       "\n",
       "      max_pressure  var_pressure  range_pressure  std_pressure  \\\n",
       "7765    974.941654      0.022076        0.635979      0.148209   \n",
       "7766    975.141330      0.014732        0.551770      0.121074   \n",
       "7767    975.285295      0.017133        0.501395      0.130110   \n",
       "7768    974.714518      0.039974        0.664974      0.199294   \n",
       "7769    974.404892      0.001170        0.169752      0.034056   \n",
       "\n",
       "      slope_pressure  kurtosis_pressure  Interqartile_percentage_Pressure  \\\n",
       "7765        0.000264           0.056936                          0.189799   \n",
       "7766        0.000439           0.798906                          0.149817   \n",
       "7767        0.003139          -0.713406                          0.190609   \n",
       "7768       -0.003342          -1.027596                          0.310558   \n",
       "7769        0.000349           0.286911                          0.035707   \n",
       "\n",
       "      skew_pressure  \n",
       "7765       0.609047  \n",
       "7766       0.756359  \n",
       "7767       0.092571  \n",
       "7768       0.442752  \n",
       "7769      -0.506659  \n",
       "\n",
       "[5 rows x 30 columns]"
      ]
     },
     "execution_count": 100,
     "metadata": {},
     "output_type": "execute_result"
    }
   ],
   "source": [
    "data = pd.read_csv('../Collected Data/preprocessed/'+str(test_participant)+'/preprocessed_traindata.csv')\n",
    "\n",
    "X = data.drop('Label', axis=1) #features\n",
    "y = data['Label']\n",
    "y = y.str.strip()\n",
    "len(X)\n",
    "X.tail()\n"
   ]
  },
  {
   "cell_type": "code",
   "execution_count": 101,
   "id": "5e85abe5-32ca-43af-a5b1-4eff1cdf99de",
   "metadata": {},
   "outputs": [
    {
     "name": "stdout",
     "output_type": "stream",
     "text": [
      "Encoded Labels: [0 0 0 ... 4 0 0]\n"
     ]
    }
   ],
   "source": [
    "label_encoder = LabelEncoder()\n",
    "\n",
    "encoded_traininglabels = label_encoder.fit_transform(y)\n",
    "\n",
    "print(\"Encoded Labels:\", encoded_traininglabels)"
   ]
  },
  {
   "cell_type": "code",
   "execution_count": 102,
   "id": "7990bb3c-c4ac-4f30-9378-822917c0c932",
   "metadata": {},
   "outputs": [
    {
     "name": "stdout",
     "output_type": "stream",
     "text": [
      "Label Mapping: {0: 'Null', 1: 'lift down', 4: 'stairs down', 5: 'stairs up', 2: 'lift up', 3: 'null'}\n"
     ]
    }
   ],
   "source": [
    "label_mapping = dict(zip(encoded_traininglabels, y))\n",
    "print(\"Label Mapping:\", label_mapping)"
   ]
  },
  {
   "cell_type": "code",
   "execution_count": 103,
   "id": "86ee4877-7789-4c3d-af47-e10b33b3cb71",
   "metadata": {},
   "outputs": [],
   "source": [
    "y = encoded_traininglabels\n",
    "X_train, X_test, y_train, y_test = train_test_split(X, y, test_size=0.2, random_state=42)\n"
   ]
  },
  {
   "cell_type": "code",
   "execution_count": 104,
   "id": "d066625c-04f6-4300-9eb8-67e330f8592d",
   "metadata": {},
   "outputs": [
    {
     "name": "stdout",
     "output_type": "stream",
     "text": [
      "Best Parameters: {'max_depth': 10, 'n_estimators': 225}\n"
     ]
    }
   ],
   "source": [
    "# Define the parameter grid\n",
    "param_grid = {\n",
    "    'n_estimators': [200, 225, 250, 275, 300],  # Testing different values for n_estimators\n",
    "    'max_depth': [None,5, 10, 15, 20],       # Testing different values for max_depth\n",
    "}\n",
    "\n",
    "# Initializing Random Forest classifier\n",
    "rf_classifier = RandomForestClassifier(random_state=42)\n",
    "\n",
    "# Initialize GridSearchCV\n",
    "grid_search = GridSearchCV(estimator=rf_classifier, param_grid=param_grid, cv=10, scoring='accuracy', n_jobs=-1)\n",
    "\n",
    "# Perform grid search to find the best hyperparameters\n",
    "grid_search.fit(X,y)\n",
    "\n",
    "# Get the best model and best parameters\n",
    "best_rf = grid_search.best_estimator_\n",
    "best_params = grid_search.best_params_\n",
    "\n",
    "print(\"Best Parameters:\", best_params)\n"
   ]
  },
  {
   "cell_type": "code",
   "execution_count": 88,
   "id": "980bf296-a948-4056-aa4b-8f8441b9e332",
   "metadata": {},
   "outputs": [
    {
     "data": {
      "image/png": "[encoded data removed]",
      "text/plain": [
       "<Figure size 1000x600 with 1 Axes>"
      ]
     },
     "metadata": {},
     "output_type": "display_data"
    }
   ],
   "source": [
    "import matplotlib.pyplot as plt\n",
    "\n",
    "# Extract and plot mean validation scores\n",
    "mean_scores = grid_search.cv_results_['mean_test_score']\n",
    "params_n_estimators = [param['n_estimators'] for param in grid_search.cv_results_['params']]\n",
    "\n",
    "plt.figure(figsize=(10, 6))\n",
    "plt.plot(params_n_estimators, mean_scores, marker='o')\n",
    "plt.xlabel('n_estimators')\n",
    "plt.ylabel('Mean Validation Accuracy')\n",
    "plt.title('Validation Curve for n_estimators')\n",
    "plt.grid(True)\n",
    "plt.show()\n"
   ]
  },
  {
   "cell_type": "code",
   "execution_count": 89,
   "id": "69a660b3-3f82-4455-86f2-5611d75efac2",
   "metadata": {},
   "outputs": [
    {
     "data": {
      "text/html": [
       "<style>#sk-container-id-4 {color: black;}#sk-container-id-4 pre{padding: 0;}#sk-container-id-4 div.sk-toggleable {background-color: white;}#sk-container-id-4 label.sk-toggleable__label {cursor: pointer;display: block;width: 100%;margin-bottom: 0;padding: 0.3em;box-sizing: border-box;text-align: center;}#sk-container-id-4 label.sk-toggleable__label-arrow:before {content: \"▸\";float: left;margin-right: 0.25em;color: #696969;}#sk-container-id-4 label.sk-toggleable__label-arrow:hover:before {color: black;}#sk-container-id-4 div.sk-estimator:hover label.sk-toggleable__label-arrow:before {color: black;}#sk-container-id-4 div.sk-toggleable__content {max-height: 0;max-width: 0;overflow: hidden;text-align: left;background-color: #f0f8ff;}#sk-container-id-4 div.sk-toggleable__content pre {margin: 0.2em;color: black;border-radius: 0.25em;background-color: #f0f8ff;}#sk-container-id-4 input.sk-toggleable__control:checked~div.sk-toggleable__content {max-height: 200px;max-width: 100%;overflow: auto;}#sk-container-id-4 input.sk-toggleable__control:checked~label.sk-toggleable__label-arrow:before {content: \"▾\";}#sk-container-id-4 div.sk-estimator input.sk-toggleable__control:checked~label.sk-toggleable__label {background-color: #d4ebff;}#sk-container-id-4 div.sk-label input.sk-toggleable__control:checked~label.sk-toggleable__label {background-color: #d4ebff;}#sk-container-id-4 input.sk-hidden--visually {border: 0;clip: rect(1px 1px 1px 1px);clip: rect(1px, 1px, 1px, 1px);height: 1px;margin: -1px;overflow: hidden;padding: 0;position: absolute;width: 1px;}#sk-container-id-4 div.sk-estimator {font-family: monospace;background-color: #f0f8ff;border: 1px dotted black;border-radius: 0.25em;box-sizing: border-box;margin-bottom: 0.5em;}#sk-container-id-4 div.sk-estimator:hover {background-color: #d4ebff;}#sk-container-id-4 div.sk-parallel-item::after {content: \"\";width: 100%;border-bottom: 1px solid gray;flex-grow: 1;}#sk-container-id-4 div.sk-label:hover label.sk-toggleable__label {background-color: #d4ebff;}#sk-container-id-4 div.sk-serial::before {content: \"\";position: absolute;border-left: 1px solid gray;box-sizing: border-box;top: 0;bottom: 0;left: 50%;z-index: 0;}#sk-container-id-4 div.sk-serial {display: flex;flex-direction: column;align-items: center;background-color: white;padding-right: 0.2em;padding-left: 0.2em;position: relative;}#sk-container-id-4 div.sk-item {position: relative;z-index: 1;}#sk-container-id-4 div.sk-parallel {display: flex;align-items: stretch;justify-content: center;background-color: white;position: relative;}#sk-container-id-4 div.sk-item::before, #sk-container-id-4 div.sk-parallel-item::before {content: \"\";position: absolute;border-left: 1px solid gray;box-sizing: border-box;top: 0;bottom: 0;left: 50%;z-index: -1;}#sk-container-id-4 div.sk-parallel-item {display: flex;flex-direction: column;z-index: 1;position: relative;background-color: white;}#sk-container-id-4 div.sk-parallel-item:first-child::after {align-self: flex-end;width: 50%;}#sk-container-id-4 div.sk-parallel-item:last-child::after {align-self: flex-start;width: 50%;}#sk-container-id-4 div.sk-parallel-item:only-child::after {width: 0;}#sk-container-id-4 div.sk-dashed-wrapped {border: 1px dashed gray;margin: 0 0.4em 0.5em 0.4em;box-sizing: border-box;padding-bottom: 0.4em;background-color: white;}#sk-container-id-4 div.sk-label label {font-family: monospace;font-weight: bold;display: inline-block;line-height: 1.2em;}#sk-container-id-4 div.sk-label-container {text-align: center;}#sk-container-id-4 div.sk-container {/* jupyter's `normalize.less` sets `[hidden] { display: none; }` but bootstrap.min.css set `[hidden] { display: none !important; }` so we also need the `!important` here to be able to override the default hidden behavior on the sphinx rendered scikit-learn.org. See: https://github.com/scikit-learn/scikit-learn/issues/21755 */display: inline-block !important;position: relative;}#sk-container-id-4 div.sk-text-repr-fallback {display: none;}</style><div id=\"sk-container-id-4\" class=\"sk-top-container\"><div class=\"sk-text-repr-fallback\"><pre>RandomForestClassifier(max_depth=10, n_estimators=200, random_state=42)</pre><b>In a Jupyter environment, please rerun this cell to show the HTML representation or trust the notebook. <br />On GitHub, the HTML representation is unable to render, please try loading this page with nbviewer.org.</b></div><div class=\"sk-container\" hidden><div class=\"sk-item\"><div class=\"sk-estimator sk-toggleable\"><input class=\"sk-toggleable__control sk-hidden--visually\" id=\"sk-estimator-id-4\" type=\"checkbox\" checked><label for=\"sk-estimator-id-4\" class=\"sk-toggleable__label sk-toggleable__label-arrow\">RandomForestClassifier</label><div class=\"sk-toggleable__content\"><pre>RandomForestClassifier(max_depth=10, n_estimators=200, random_state=42)</pre></div></div></div></div></div>"
      ],
      "text/plain": [
       "RandomForestClassifier(max_depth=10, n_estimators=200, random_state=42)"
      ]
     },
     "execution_count": 89,
     "metadata": {},
     "output_type": "execute_result"
    }
   ],
   "source": [
    "# Training the model using the best parameters\n",
    "final_rf = RandomForestClassifier(**best_params, random_state=42)\n",
    "final_rf.fit(X,y)"
   ]
  },
  {
   "cell_type": "code",
   "execution_count": 90,
   "id": "6f3b2866-1f83-463d-b42b-282bcdf1fbd2",
   "metadata": {},
   "outputs": [
    {
     "name": "stdout",
     "output_type": "stream",
     "text": [
      "Accuracy: 0.8410553410553411\n"
     ]
    }
   ],
   "source": [
    "\n",
    "y_pred = final_rf.predict(X_test)\n",
    "\n",
    "accuracy = accuracy_score(y_test, y_pred)\n",
    "print(\"Accuracy:\", accuracy)\n"
   ]
  },
  {
   "cell_type": "code",
   "execution_count": 91,
   "id": "85cffc43-25df-41cd-b444-3d30cd1d7a90",
   "metadata": {},
   "outputs": [],
   "source": [
    "data = pd.read_csv('../Collected Data/preprocessed/'+str(test_participant)+'/preprocessed_testdata.csv')\n",
    "\n",
    "xtest = data.drop('Label', axis=1) #features\n",
    "ytest = data['Label']"
   ]
  },
  {
   "cell_type": "code",
   "execution_count": 92,
   "id": "b2095c0b-bfd3-417a-ade6-bc215e9eeaec",
   "metadata": {},
   "outputs": [
    {
     "name": "stdout",
     "output_type": "stream",
     "text": [
      "Label Mapping: {0: 'Null', 1: 'lift down', 4: 'stairs up', 3: 'stairs down', 2: 'lift up'}\n",
      "[0 0 0 0 0 0 0 0 0 0 1 1 1 1 1 1 1 1 1 1 1 0 0 0 0 0 4 4 4 4 0 0 0 0 0 0 0\n",
      " 0 3 3 3 3 3 3 3 3 3 3 3 3 3 3 3 3 3 3 3 3 3 3 3 3 3 3 0 0 0 0 2 2 2 2 2 2\n",
      " 2 2 2 2 0 0 0 1 1 1 1 1 1 1 1 0 0 0 0 0 1 1 1 1 1 1 1 1 0 0 0 4 4 4 4 4 4\n",
      " 4 4 4 4 4 4 4 4 4 4 0 0 0 0 3 3 3 3 3 3 3 3 3 3 3 3 3 3 3 3 3 3 0 0 0 0 0\n",
      " 4 4 4 4 4 4 4 4 4 0 0 0 0 3 3 3 3 3 3 3 3 3 0 0 0 0 0 0 2 2 2 2 2 2 2 2 2\n",
      " 2 0 0 1 1 1 1 1 1 1 1 1 1 0 0 0 2 2 2 2 2 2 2 2 2 2 2 0 0 0 0 3 3 3 3 3 3\n",
      " 3 3 3 0 0 0 0 0 0 0 4 4 4 4 4 4 4 4 4 4 4 4 4 4 4 4 4 4 4 0 0 0 0 3 3 3 3\n",
      " 3 3 3 3 3 3 3 3 3 3 3 3 3 3 3 3 3 3 0 0 0 0 4 4 4 4 4 4 4 4 4 4 4 4 4 4 4\n",
      " 4 4 4 4 4 4 4 4 4 4 0 0 0 0 0 0 0 0 0 0 1 1 1 1 1 1 1 1 1 1 1 1 0 0 1 1 1\n",
      " 1 1 1 1 1 1 1 0 0 2 2 2 2 2 2 2 2 2 0 0 0 0 0 0 3 3 3 3 0 0 0 0 0 0 0 0 0\n",
      " 0 2 2 2 2 2 2 2 2 2 2 0 0 1 1 1 1 1 1 1 1 1 1 1 0 0 0 2 2 2 2 2 2 2 2 2 2\n",
      " 2 2 2 2 0 0 1 1 1 1 1 1 1 1 1 1 1 1 1 0 0 0 0 4 4 4 4 4 4 4 4 4 4 4 4 4 4\n",
      " 4 4 4 4 0 0 0 0]\n"
     ]
    }
   ],
   "source": [
    "encoded_testinglabels = label_encoder.fit_transform(ytest)\n",
    "label_mapping = dict(zip(encoded_testinglabels, ytest))\n",
    "print(\"Label Mapping:\", label_mapping)\n",
    "print(encoded_testinglabels)"
   ]
  },
  {
   "cell_type": "code",
   "execution_count": 93,
   "id": "b240ded9-c4ae-4f1f-833f-d36a32ace7a0",
   "metadata": {},
   "outputs": [
    {
     "name": "stdout",
     "output_type": "stream",
     "text": [
      "Accuracy: 0.5973451327433629\n"
     ]
    }
   ],
   "source": [
    "y_pred = final_rf.predict(xtest)\n",
    "ytest = encoded_testinglabels\n",
    "accuracy = accuracy_score(ytest, y_pred)\n",
    "print(\"Accuracy:\", accuracy)\n"
   ]
  },
  {
   "cell_type": "code",
   "execution_count": 94,
   "id": "c85a67e9-c9c3-4a84-aece-b70a51bf02c0",
   "metadata": {},
   "outputs": [],
   "source": [
    "import matplotlib.pyplot as plt\n",
    "import seaborn as sns\n",
    "from sklearn.ensemble import RandomForestClassifier\n",
    "from sklearn.metrics import confusion_matrix, ConfusionMatrixDisplay"
   ]
  },
  {
   "cell_type": "code",
   "execution_count": 95,
   "id": "eab14e0f-e444-4d74-844c-ba4b5ce24410",
   "metadata": {},
   "outputs": [],
   "source": [
    "import numpy as np\n",
    "cm = confusion_matrix(ytest, y_pred,  labels=np.arange(len(label_encoder.classes_)))"
   ]
  },
  {
   "cell_type": "code",
   "execution_count": 96,
   "id": "cf95a98f-3dd0-42bd-8b4f-4848b141eb45",
   "metadata": {},
   "outputs": [
    {
     "data": {
      "image/png": "[encoded data removed]",
      "text/plain": [
       "<Figure size 1000x700 with 2 Axes>"
      ]
     },
     "metadata": {},
     "output_type": "display_data"
    }
   ],
   "source": [
    "plt.figure(figsize=(10, 7))\n",
    "sns.heatmap(cm, annot=True, fmt='d', cmap='Blues', xticklabels=label_encoder.classes_, yticklabels=label_encoder.classes_)\n",
    "plt.xlabel('Predicted Label')\n",
    "plt.ylabel('True Label')\n",
    "plt.title('Confusion Matrix')\n",
    "plt.show()"
   ]
  },
  {
   "cell_type": "code",
   "execution_count": 97,
   "id": "747007bf-0747-418e-9bfe-26d2c18962c1",
   "metadata": {},
   "outputs": [],
   "source": [
    "importances = final_rf.feature_importances_\n",
    "\n",
    "# Create a DataFrame for better visualization\n",
    "feature_names = X.columns\n",
    "feature_importances = pd.DataFrame({'Feature': feature_names, 'Importance': importances})\n",
    "\n",
    "# Sort the DataFrame by importance\n",
    "feature_importances = feature_importances.sort_values(by='Importance', ascending=False)"
   ]
  },
  {
   "cell_type": "code",
   "execution_count": 98,
   "id": "eabde488-7da9-4c2b-8812-40df9cf030a4",
   "metadata": {},
   "outputs": [
    {
     "data": {
      "text/html": [
       "<div>\n",
       "<style scoped>\n",
       "    .dataframe tbody tr th:only-of-type {\n",
       "        vertical-align: middle;\n",
       "    }\n",
       "\n",
       "    .dataframe tbody tr th {\n",
       "        vertical-align: top;\n",
       "    }\n",
       "\n",
       "    .dataframe thead th {\n",
       "        text-align: right;\n",
       "    }\n",
       "</style>\n",
       "<table border=\"1\" class=\"dataframe\">\n",
       "  <thead>\n",
       "    <tr style=\"text-align: right;\">\n",
       "      <th></th>\n",
       "      <th>Feature</th>\n",
       "      <th>Importance</th>\n",
       "    </tr>\n",
       "  </thead>\n",
       "  <tbody>\n",
       "    <tr>\n",
       "      <th>26</th>\n",
       "      <td>slope_pressure</td>\n",
       "      <td>0.197704</td>\n",
       "    </tr>\n",
       "    <tr>\n",
       "      <th>18</th>\n",
       "      <td>var_magnitude</td>\n",
       "      <td>0.078442</td>\n",
       "    </tr>\n",
       "    <tr>\n",
       "      <th>19</th>\n",
       "      <td>std_magnitude</td>\n",
       "      <td>0.074197</td>\n",
       "    </tr>\n",
       "    <tr>\n",
       "      <th>17</th>\n",
       "      <td>max_magnitude</td>\n",
       "      <td>0.049939</td>\n",
       "    </tr>\n",
       "    <tr>\n",
       "      <th>16</th>\n",
       "      <td>min_magnitude</td>\n",
       "      <td>0.036031</td>\n",
       "    </tr>\n",
       "    <tr>\n",
       "      <th>28</th>\n",
       "      <td>Interqartile_percentage_Pressure</td>\n",
       "      <td>0.033042</td>\n",
       "    </tr>\n",
       "    <tr>\n",
       "      <th>3</th>\n",
       "      <td>var_accX</td>\n",
       "      <td>0.031683</td>\n",
       "    </tr>\n",
       "    <tr>\n",
       "      <th>4</th>\n",
       "      <td>std_accX</td>\n",
       "      <td>0.031050</td>\n",
       "    </tr>\n",
       "    <tr>\n",
       "      <th>14</th>\n",
       "      <td>std_accZ</td>\n",
       "      <td>0.027879</td>\n",
       "    </tr>\n",
       "    <tr>\n",
       "      <th>13</th>\n",
       "      <td>var_accZ</td>\n",
       "      <td>0.027606</td>\n",
       "    </tr>\n",
       "    <tr>\n",
       "      <th>27</th>\n",
       "      <td>kurtosis_pressure</td>\n",
       "      <td>0.025609</td>\n",
       "    </tr>\n",
       "    <tr>\n",
       "      <th>0</th>\n",
       "      <td>avg_accX</td>\n",
       "      <td>0.025155</td>\n",
       "    </tr>\n",
       "    <tr>\n",
       "      <th>11</th>\n",
       "      <td>min_accZ</td>\n",
       "      <td>0.024310</td>\n",
       "    </tr>\n",
       "    <tr>\n",
       "      <th>2</th>\n",
       "      <td>max_accX</td>\n",
       "      <td>0.023862</td>\n",
       "    </tr>\n",
       "    <tr>\n",
       "      <th>15</th>\n",
       "      <td>avg_magnitude</td>\n",
       "      <td>0.023517</td>\n",
       "    </tr>\n",
       "    <tr>\n",
       "      <th>1</th>\n",
       "      <td>min_accX</td>\n",
       "      <td>0.023210</td>\n",
       "    </tr>\n",
       "    <tr>\n",
       "      <th>7</th>\n",
       "      <td>max_accY</td>\n",
       "      <td>0.023208</td>\n",
       "    </tr>\n",
       "    <tr>\n",
       "      <th>8</th>\n",
       "      <td>var_accY</td>\n",
       "      <td>0.022680</td>\n",
       "    </tr>\n",
       "    <tr>\n",
       "      <th>23</th>\n",
       "      <td>var_pressure</td>\n",
       "      <td>0.022136</td>\n",
       "    </tr>\n",
       "    <tr>\n",
       "      <th>25</th>\n",
       "      <td>std_pressure</td>\n",
       "      <td>0.021667</td>\n",
       "    </tr>\n",
       "    <tr>\n",
       "      <th>10</th>\n",
       "      <td>avg_accZ</td>\n",
       "      <td>0.021573</td>\n",
       "    </tr>\n",
       "    <tr>\n",
       "      <th>9</th>\n",
       "      <td>std_accY</td>\n",
       "      <td>0.020090</td>\n",
       "    </tr>\n",
       "    <tr>\n",
       "      <th>12</th>\n",
       "      <td>max_accZ</td>\n",
       "      <td>0.019435</td>\n",
       "    </tr>\n",
       "    <tr>\n",
       "      <th>24</th>\n",
       "      <td>range_pressure</td>\n",
       "      <td>0.018099</td>\n",
       "    </tr>\n",
       "    <tr>\n",
       "      <th>5</th>\n",
       "      <td>avg_accY</td>\n",
       "      <td>0.017981</td>\n",
       "    </tr>\n",
       "    <tr>\n",
       "      <th>20</th>\n",
       "      <td>avg_pressure</td>\n",
       "      <td>0.017183</td>\n",
       "    </tr>\n",
       "    <tr>\n",
       "      <th>6</th>\n",
       "      <td>min_accY</td>\n",
       "      <td>0.016629</td>\n",
       "    </tr>\n",
       "    <tr>\n",
       "      <th>22</th>\n",
       "      <td>max_pressure</td>\n",
       "      <td>0.016577</td>\n",
       "    </tr>\n",
       "    <tr>\n",
       "      <th>21</th>\n",
       "      <td>min_pressure</td>\n",
       "      <td>0.015834</td>\n",
       "    </tr>\n",
       "    <tr>\n",
       "      <th>29</th>\n",
       "      <td>skew_pressure</td>\n",
       "      <td>0.013676</td>\n",
       "    </tr>\n",
       "  </tbody>\n",
       "</table>\n",
       "</div>"
      ],
      "text/plain": [
       "                             Feature  Importance\n",
       "26                    slope_pressure    0.197704\n",
       "18                     var_magnitude    0.078442\n",
       "19                     std_magnitude    0.074197\n",
       "17                     max_magnitude    0.049939\n",
       "16                     min_magnitude    0.036031\n",
       "28  Interqartile_percentage_Pressure    0.033042\n",
       "3                           var_accX    0.031683\n",
       "4                           std_accX    0.031050\n",
       "14                          std_accZ    0.027879\n",
       "13                          var_accZ    0.027606\n",
       "27                 kurtosis_pressure    0.025609\n",
       "0                           avg_accX    0.025155\n",
       "11                          min_accZ    0.024310\n",
       "2                           max_accX    0.023862\n",
       "15                     avg_magnitude    0.023517\n",
       "1                           min_accX    0.023210\n",
       "7                           max_accY    0.023208\n",
       "8                           var_accY    0.022680\n",
       "23                      var_pressure    0.022136\n",
       "25                      std_pressure    0.021667\n",
       "10                          avg_accZ    0.021573\n",
       "9                           std_accY    0.020090\n",
       "12                          max_accZ    0.019435\n",
       "24                    range_pressure    0.018099\n",
       "5                           avg_accY    0.017981\n",
       "20                      avg_pressure    0.017183\n",
       "6                           min_accY    0.016629\n",
       "22                      max_pressure    0.016577\n",
       "21                      min_pressure    0.015834\n",
       "29                     skew_pressure    0.013676"
      ]
     },
     "execution_count": 98,
     "metadata": {},
     "output_type": "execute_result"
    }
   ],
   "source": [
    "feature_importances"
   ]
  },
  {
   "cell_type": "code",
   "execution_count": null,
   "id": "1a8220fc-a2b5-4e88-b3c6-35e45409185d",
   "metadata": {},
   "outputs": [],
   "source": []
  }
 ],
 "metadata": {
  "kernelspec": {
   "display_name": "Python 3 (ipykernel)",
   "language": "python",
   "name": "python3"
  },
  "language_info": {
   "codemirror_mode": {
    "name": "ipython",
    "version": 3
   },
   "file_extension": ".py",
   "mimetype": "text/x-python",
   "name": "python",
   "nbconvert_exporter": "python",
   "pygments_lexer": "ipython3",
   "version": "3.10.11"
  }
 },
 "nbformat": 4,
 "nbformat_minor": 5
}
