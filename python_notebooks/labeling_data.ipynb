{
 "cells": [
  {
   "cell_type": "code",
   "execution_count": 80,
   "id": "ddc9394f-16c0-4183-8fad-c92ffb31dc60",
   "metadata": {},
   "outputs": [],
   "source": [
    "import pandas as pd\n",
    "\n",
    "datadir = '../data/'"
   ]
  },
  {
   "cell_type": "code",
   "execution_count": 81,
   "id": "1cc04bb8-0058-42a3-b46b-88a8ccce1d05",
   "metadata": {},
   "outputs": [],
   "source": [
    "data = pd.read_csv(datadir+'rawdata/datalogs_Participant3.csv')\n",
    "\n",
    "labels = pd.read_csv(datadir+'labels/data_participtant3.csv')"
   ]
  },
  {
   "cell_type": "code",
   "execution_count": 82,
   "id": "47143cd7-0978-43d9-b568-63ca3522f283",
   "metadata": {},
   "outputs": [
    {
     "data": {
      "text/html": [
       "<div>\n",
       "<style scoped>\n",
       "    .dataframe tbody tr th:only-of-type {\n",
       "        vertical-align: middle;\n",
       "    }\n",
       "\n",
       "    .dataframe tbody tr th {\n",
       "        vertical-align: top;\n",
       "    }\n",
       "\n",
       "    .dataframe thead th {\n",
       "        text-align: right;\n",
       "    }\n",
       "</style>\n",
       "<table border=\"1\" class=\"dataframe\">\n",
       "  <thead>\n",
       "    <tr style=\"text-align: right;\">\n",
       "      <th></th>\n",
       "      <th>Time</th>\n",
       "      <th>Timestamp</th>\n",
       "      <th>X</th>\n",
       "      <th>Y</th>\n",
       "      <th>Z</th>\n",
       "      <th>Magnitude</th>\n",
       "      <th>Pressure</th>\n",
       "    </tr>\n",
       "  </thead>\n",
       "  <tbody>\n",
       "    <tr>\n",
       "      <th>77985</th>\n",
       "      <td>14:47:32.211</td>\n",
       "      <td>1758.071686</td>\n",
       "      <td>0.398560</td>\n",
       "      <td>-0.724731</td>\n",
       "      <td>-0.618408</td>\n",
       "      <td>1.032722</td>\n",
       "      <td>975.008132</td>\n",
       "    </tr>\n",
       "    <tr>\n",
       "      <th>77986</th>\n",
       "      <td>14:47:32.228</td>\n",
       "      <td>1758.088745</td>\n",
       "      <td>0.398560</td>\n",
       "      <td>-0.724731</td>\n",
       "      <td>-0.618408</td>\n",
       "      <td>1.032722</td>\n",
       "      <td>975.008132</td>\n",
       "    </tr>\n",
       "    <tr>\n",
       "      <th>77987</th>\n",
       "      <td>14:47:32.246</td>\n",
       "      <td>1758.105804</td>\n",
       "      <td>0.398560</td>\n",
       "      <td>-0.724731</td>\n",
       "      <td>-0.618408</td>\n",
       "      <td>1.032722</td>\n",
       "      <td>975.008132</td>\n",
       "    </tr>\n",
       "    <tr>\n",
       "      <th>77988</th>\n",
       "      <td>14:47:32.263</td>\n",
       "      <td>1758.122925</td>\n",
       "      <td>0.398560</td>\n",
       "      <td>-0.724731</td>\n",
       "      <td>-0.618408</td>\n",
       "      <td>1.032722</td>\n",
       "      <td>975.008132</td>\n",
       "    </tr>\n",
       "    <tr>\n",
       "      <th>77989</th>\n",
       "      <td>14:49:40.486</td>\n",
       "      <td>1886.345886</td>\n",
       "      <td>0.635132</td>\n",
       "      <td>0.637329</td>\n",
       "      <td>-0.470947</td>\n",
       "      <td>1.015565</td>\n",
       "      <td>973.268729</td>\n",
       "    </tr>\n",
       "  </tbody>\n",
       "</table>\n",
       "</div>"
      ],
      "text/plain": [
       "               Time    Timestamp         X         Y         Z  Magnitude  \\\n",
       "77985  14:47:32.211  1758.071686  0.398560 -0.724731 -0.618408   1.032722   \n",
       "77986  14:47:32.228  1758.088745  0.398560 -0.724731 -0.618408   1.032722   \n",
       "77987  14:47:32.246  1758.105804  0.398560 -0.724731 -0.618408   1.032722   \n",
       "77988  14:47:32.263  1758.122925  0.398560 -0.724731 -0.618408   1.032722   \n",
       "77989  14:49:40.486  1886.345886  0.635132  0.637329 -0.470947   1.015565   \n",
       "\n",
       "         Pressure  \n",
       "77985  975.008132  \n",
       "77986  975.008132  \n",
       "77987  975.008132  \n",
       "77988  975.008132  \n",
       "77989  973.268729  "
      ]
     },
     "execution_count": 82,
     "metadata": {},
     "output_type": "execute_result"
    }
   ],
   "source": [
    "data.tail()"
   ]
  },
  {
   "cell_type": "code",
   "execution_count": 83,
   "id": "fc90b274-3758-48a1-9319-24ac663dea50",
   "metadata": {},
   "outputs": [
    {
     "data": {
      "text/html": [
       "<div>\n",
       "<style scoped>\n",
       "    .dataframe tbody tr th:only-of-type {\n",
       "        vertical-align: middle;\n",
       "    }\n",
       "\n",
       "    .dataframe tbody tr th {\n",
       "        vertical-align: top;\n",
       "    }\n",
       "\n",
       "    .dataframe thead th {\n",
       "        text-align: right;\n",
       "    }\n",
       "</style>\n",
       "<table border=\"1\" class=\"dataframe\">\n",
       "  <thead>\n",
       "    <tr style=\"text-align: right;\">\n",
       "      <th></th>\n",
       "      <th>Elapsedtime</th>\n",
       "      <th>\\tComment</th>\n",
       "    </tr>\n",
       "  </thead>\n",
       "  <tbody>\n",
       "    <tr>\n",
       "      <th>0</th>\n",
       "      <td>00:00:22.818</td>\n",
       "      <td>\\tNull</td>\n",
       "    </tr>\n",
       "    <tr>\n",
       "      <th>1</th>\n",
       "      <td>00:01:30.874</td>\n",
       "      <td>\\tLift up</td>\n",
       "    </tr>\n",
       "    <tr>\n",
       "      <th>2</th>\n",
       "      <td>00:02:05.234</td>\n",
       "      <td>\\tNull</td>\n",
       "    </tr>\n",
       "    <tr>\n",
       "      <th>3</th>\n",
       "      <td>00:02:38.001</td>\n",
       "      <td>\\tLift down</td>\n",
       "    </tr>\n",
       "    <tr>\n",
       "      <th>4</th>\n",
       "      <td>00:02:52.869</td>\n",
       "      <td>\\tNull</td>\n",
       "    </tr>\n",
       "  </tbody>\n",
       "</table>\n",
       "</div>"
      ],
      "text/plain": [
       "    Elapsedtime    \\tComment\n",
       "0  00:00:22.818       \\tNull\n",
       "1  00:01:30.874    \\tLift up\n",
       "2  00:02:05.234       \\tNull\n",
       "3  00:02:38.001  \\tLift down\n",
       "4  00:02:52.869       \\tNull"
      ]
     },
     "execution_count": 83,
     "metadata": {},
     "output_type": "execute_result"
    }
   ],
   "source": [
    "labels.head()"
   ]
  },
  {
   "cell_type": "code",
   "execution_count": 84,
   "id": "d6ea1b5a-4f60-47d6-b15a-45e717bef13b",
   "metadata": {},
   "outputs": [],
   "source": [
    "import datetime\n",
    "\n",
    "def convert_timestamp_to_seconds(timestamp_str):\n",
    "    # Parse the timestamp string to extract hours, minutes, seconds, and milliseconds\n",
    "    timestamp_obj = datetime.datetime.strptime(timestamp_str, \"%H:%M:%S.%f\")\n",
    "    \n",
    "    # Calculate total seconds from the timestamp\n",
    "    total_seconds = (timestamp_obj.hour * 3600) + (timestamp_obj.minute * 60) + timestamp_obj.second + (timestamp_obj.microsecond / 1000000)\n",
    "    \n",
    "    return total_seconds"
   ]
  },
  {
   "cell_type": "code",
   "execution_count": 85,
   "id": "f07430d2-cc56-49bf-aaf5-579f08c61aae",
   "metadata": {},
   "outputs": [],
   "source": [
    "for ind, row in labels.iterrows():\n",
    "    time = convert_timestamp_to_seconds(row['Elapsedtime'])\n",
    "    row['Elapsedtime'] = time\n",
    "    "
   ]
  },
  {
   "cell_type": "code",
   "execution_count": 86,
   "id": "96fee626-cc7c-45dc-b90a-22e68f1b8b8b",
   "metadata": {},
   "outputs": [
    {
     "name": "stdout",
     "output_type": "stream",
     "text": [
      "\tNull\n"
     ]
    },
    {
     "name": "stderr",
     "output_type": "stream",
     "text": [
      "C:\\Users\\ravik\\AppData\\Local\\Temp\\ipykernel_5736\\4256039138.py:2: FutureWarning: Series.__getitem__ treating keys as positions is deprecated. In a future version, integer keys will always be treated as labels (consistent with DataFrame behavior). To access a value by position, use `ser.iloc[pos]`\n",
      "  print(row[1])\n"
     ]
    }
   ],
   "source": [
    "for ind, row in labels.iterrows():\n",
    "    print(row[1])\n",
    "    break\n"
   ]
  },
  {
   "cell_type": "code",
   "execution_count": 87,
   "id": "d0b46e80-1592-4a31-b61c-b3eb066346f2",
   "metadata": {},
   "outputs": [],
   "source": [
    "def map_label(timestamp):\n",
    "    # Find the corresponding label for the given timestamp\n",
    "    prev = -1.0\n",
    "    for index, row in labels.iterrows():\n",
    "        if timestamp <= row['Elapsedtime'] and timestamp >= prev:\n",
    "            return row[1]\n",
    "        prev = row['Elapsedtime']\n",
    "    # If no matching label range is found, return a default label or handle as needed\n",
    "    return 'Null'\n"
   ]
  },
  {
   "cell_type": "code",
   "execution_count": 88,
   "id": "09b0a3d0-fd29-469a-b828-29e1468717e9",
   "metadata": {},
   "outputs": [
    {
     "name": "stdout",
     "output_type": "stream",
     "text": [
      "\tLift up\n",
      "\tLift up\n",
      "\tLift up\n",
      "\tNull\n",
      "\tNull\n",
      "\tNull\n",
      "\tLift up\n",
      "\tLift up\n"
     ]
    },
    {
     "name": "stderr",
     "output_type": "stream",
     "text": [
      "C:\\Users\\ravik\\AppData\\Local\\Temp\\ipykernel_5736\\3919948953.py:6: FutureWarning: Series.__getitem__ treating keys as positions is deprecated. In a future version, integer keys will always be treated as labels (consistent with DataFrame behavior). To access a value by position, use `ser.iloc[pos]`\n",
      "  return row[1]\n"
     ]
    }
   ],
   "source": [
    "trial = [32.987, 38.456, 45.534, 120.03, 125.03, 170.45, 205.0, 220.567]\n",
    "for each in trial:\n",
    "    print(map_label(each))\n",
    "    #works fine"
   ]
  },
  {
   "cell_type": "code",
   "execution_count": 89,
   "id": "a52e8c46-eb8b-4582-ad8c-6450870b5d96",
   "metadata": {},
   "outputs": [
    {
     "name": "stderr",
     "output_type": "stream",
     "text": [
      "C:\\Users\\ravik\\AppData\\Local\\Temp\\ipykernel_5736\\3919948953.py:6: FutureWarning: Series.__getitem__ treating keys as positions is deprecated. In a future version, integer keys will always be treated as labels (consistent with DataFrame behavior). To access a value by position, use `ser.iloc[pos]`\n",
      "  return row[1]\n"
     ]
    }
   ],
   "source": [
    "# Create a new 'label' column in sensor_data by mapping timestamps\n",
    "data['label'] = data['Timestamp'].apply(map_label)\n"
   ]
  },
  {
   "cell_type": "code",
   "execution_count": 90,
   "id": "d6e8adc5-d8a3-4446-916d-b20ac2f8ee9c",
   "metadata": {},
   "outputs": [
    {
     "data": {
      "text/html": [
       "<div>\n",
       "<style scoped>\n",
       "    .dataframe tbody tr th:only-of-type {\n",
       "        vertical-align: middle;\n",
       "    }\n",
       "\n",
       "    .dataframe tbody tr th {\n",
       "        vertical-align: top;\n",
       "    }\n",
       "\n",
       "    .dataframe thead th {\n",
       "        text-align: right;\n",
       "    }\n",
       "</style>\n",
       "<table border=\"1\" class=\"dataframe\">\n",
       "  <thead>\n",
       "    <tr style=\"text-align: right;\">\n",
       "      <th></th>\n",
       "      <th>Time</th>\n",
       "      <th>Timestamp</th>\n",
       "      <th>X</th>\n",
       "      <th>Y</th>\n",
       "      <th>Z</th>\n",
       "      <th>Magnitude</th>\n",
       "      <th>Pressure</th>\n",
       "      <th>label</th>\n",
       "    </tr>\n",
       "  </thead>\n",
       "  <tbody>\n",
       "    <tr>\n",
       "      <th>0</th>\n",
       "      <td>14:18:14.309</td>\n",
       "      <td>0.168915</td>\n",
       "      <td>-0.505005</td>\n",
       "      <td>0.506226</td>\n",
       "      <td>0.711182</td>\n",
       "      <td>1.008501</td>\n",
       "      <td>976.095962</td>\n",
       "      <td>\\tNull</td>\n",
       "    </tr>\n",
       "    <tr>\n",
       "      <th>1</th>\n",
       "      <td>14:18:14.329</td>\n",
       "      <td>0.188812</td>\n",
       "      <td>-0.505005</td>\n",
       "      <td>0.506226</td>\n",
       "      <td>0.711182</td>\n",
       "      <td>1.008501</td>\n",
       "      <td>976.095962</td>\n",
       "      <td>\\tNull</td>\n",
       "    </tr>\n",
       "    <tr>\n",
       "      <th>2</th>\n",
       "      <td>14:18:14.354</td>\n",
       "      <td>0.213898</td>\n",
       "      <td>-0.510620</td>\n",
       "      <td>0.505005</td>\n",
       "      <td>0.715210</td>\n",
       "      <td>1.013552</td>\n",
       "      <td>976.092649</td>\n",
       "      <td>\\tNull</td>\n",
       "    </tr>\n",
       "    <tr>\n",
       "      <th>3</th>\n",
       "      <td>14:18:14.371</td>\n",
       "      <td>0.230835</td>\n",
       "      <td>-0.510620</td>\n",
       "      <td>0.505005</td>\n",
       "      <td>0.715210</td>\n",
       "      <td>1.013552</td>\n",
       "      <td>976.092649</td>\n",
       "      <td>\\tNull</td>\n",
       "    </tr>\n",
       "    <tr>\n",
       "      <th>4</th>\n",
       "      <td>14:18:14.389</td>\n",
       "      <td>0.248962</td>\n",
       "      <td>-0.510620</td>\n",
       "      <td>0.505005</td>\n",
       "      <td>0.715210</td>\n",
       "      <td>1.013552</td>\n",
       "      <td>976.092649</td>\n",
       "      <td>\\tNull</td>\n",
       "    </tr>\n",
       "    <tr>\n",
       "      <th>...</th>\n",
       "      <td>...</td>\n",
       "      <td>...</td>\n",
       "      <td>...</td>\n",
       "      <td>...</td>\n",
       "      <td>...</td>\n",
       "      <td>...</td>\n",
       "      <td>...</td>\n",
       "      <td>...</td>\n",
       "    </tr>\n",
       "    <tr>\n",
       "      <th>19995</th>\n",
       "      <td>14:25:45.505</td>\n",
       "      <td>451.365601</td>\n",
       "      <td>-0.733276</td>\n",
       "      <td>0.636475</td>\n",
       "      <td>0.194336</td>\n",
       "      <td>0.990233</td>\n",
       "      <td>973.053975</td>\n",
       "      <td>\\tLift down</td>\n",
       "    </tr>\n",
       "    <tr>\n",
       "      <th>19996</th>\n",
       "      <td>14:25:45.524</td>\n",
       "      <td>451.383942</td>\n",
       "      <td>-0.733276</td>\n",
       "      <td>0.636475</td>\n",
       "      <td>0.194336</td>\n",
       "      <td>0.990233</td>\n",
       "      <td>973.053975</td>\n",
       "      <td>\\tLift down</td>\n",
       "    </tr>\n",
       "    <tr>\n",
       "      <th>19997</th>\n",
       "      <td>14:25:45.542</td>\n",
       "      <td>451.402344</td>\n",
       "      <td>-0.733276</td>\n",
       "      <td>0.636475</td>\n",
       "      <td>0.194336</td>\n",
       "      <td>0.990233</td>\n",
       "      <td>973.053975</td>\n",
       "      <td>\\tLift down</td>\n",
       "    </tr>\n",
       "    <tr>\n",
       "      <th>19998</th>\n",
       "      <td>14:25:45.566</td>\n",
       "      <td>451.426025</td>\n",
       "      <td>-0.732788</td>\n",
       "      <td>0.631348</td>\n",
       "      <td>0.201172</td>\n",
       "      <td>0.987952</td>\n",
       "      <td>973.046453</td>\n",
       "      <td>\\tLift down</td>\n",
       "    </tr>\n",
       "    <tr>\n",
       "      <th>19999</th>\n",
       "      <td>14:25:45.584</td>\n",
       "      <td>451.444458</td>\n",
       "      <td>-0.732788</td>\n",
       "      <td>0.631348</td>\n",
       "      <td>0.201172</td>\n",
       "      <td>0.987952</td>\n",
       "      <td>973.046453</td>\n",
       "      <td>\\tLift down</td>\n",
       "    </tr>\n",
       "  </tbody>\n",
       "</table>\n",
       "<p>20000 rows × 8 columns</p>\n",
       "</div>"
      ],
      "text/plain": [
       "               Time   Timestamp         X         Y         Z  Magnitude  \\\n",
       "0      14:18:14.309    0.168915 -0.505005  0.506226  0.711182   1.008501   \n",
       "1      14:18:14.329    0.188812 -0.505005  0.506226  0.711182   1.008501   \n",
       "2      14:18:14.354    0.213898 -0.510620  0.505005  0.715210   1.013552   \n",
       "3      14:18:14.371    0.230835 -0.510620  0.505005  0.715210   1.013552   \n",
       "4      14:18:14.389    0.248962 -0.510620  0.505005  0.715210   1.013552   \n",
       "...             ...         ...       ...       ...       ...        ...   \n",
       "19995  14:25:45.505  451.365601 -0.733276  0.636475  0.194336   0.990233   \n",
       "19996  14:25:45.524  451.383942 -0.733276  0.636475  0.194336   0.990233   \n",
       "19997  14:25:45.542  451.402344 -0.733276  0.636475  0.194336   0.990233   \n",
       "19998  14:25:45.566  451.426025 -0.732788  0.631348  0.201172   0.987952   \n",
       "19999  14:25:45.584  451.444458 -0.732788  0.631348  0.201172   0.987952   \n",
       "\n",
       "         Pressure        label  \n",
       "0      976.095962       \\tNull  \n",
       "1      976.095962       \\tNull  \n",
       "2      976.092649       \\tNull  \n",
       "3      976.092649       \\tNull  \n",
       "4      976.092649       \\tNull  \n",
       "...           ...          ...  \n",
       "19995  973.053975  \\tLift down  \n",
       "19996  973.053975  \\tLift down  \n",
       "19997  973.053975  \\tLift down  \n",
       "19998  973.046453  \\tLift down  \n",
       "19999  973.046453  \\tLift down  \n",
       "\n",
       "[20000 rows x 8 columns]"
      ]
     },
     "execution_count": 90,
     "metadata": {},
     "output_type": "execute_result"
    }
   ],
   "source": [
    "data.head(20000)"
   ]
  },
  {
   "cell_type": "code",
   "execution_count": 91,
   "id": "6204053e-f912-4a97-83cd-f5991cc935c4",
   "metadata": {},
   "outputs": [],
   "source": [
    "# Save updated sensor_data with labels to CSV\n",
    "data.to_csv(datadir+'labels/data_with_label3.csv', index=False)"
   ]
  },
  {
   "cell_type": "code",
   "execution_count": null,
   "id": "7372f62c-3226-4fd1-8dfa-469ed0375987",
   "metadata": {},
   "outputs": [],
   "source": []
  },
  {
   "cell_type": "code",
   "execution_count": null,
   "id": "0b2c6a5b-1c33-4ab5-a0ff-425562ac9f25",
   "metadata": {},
   "outputs": [],
   "source": []
  }
 ],
 "metadata": {
  "kernelspec": {
   "display_name": "Python 3 (ipykernel)",
   "language": "python",
   "name": "python3"
  },
  "language_info": {
   "codemirror_mode": {
    "name": "ipython",
    "version": 3
   },
   "file_extension": ".py",
   "mimetype": "text/x-python",
   "name": "python",
   "nbconvert_exporter": "python",
   "pygments_lexer": "ipython3",
   "version": "3.9.19"
  }
 },
 "nbformat": 4,
 "nbformat_minor": 5
}
