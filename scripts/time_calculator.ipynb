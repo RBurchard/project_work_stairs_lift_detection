{
 "cells": [
  {
   "cell_type": "code",
   "execution_count": 22,
   "id": "8f2d353c-511f-4bff-8564-4b9ca237cfd0",
   "metadata": {},
   "outputs": [
    {
     "name": "stdout",
     "output_type": "stream",
     "text": [
      "0           0.108582\n",
      "1           0.128479\n",
      "2           0.148438\n",
      "3           0.168518\n",
      "4           0.188507\n",
      "            ...     \n",
      "90942    1818.903625\n",
      "90943    1818.923798\n",
      "90944    1818.943787\n",
      "90945    1818.968994\n",
      "90946    1818.983673\n",
      "Name: Timestamp, Length: 90947, dtype: float64\n",
      "0        Null\n",
      "1        Null\n",
      "2        Null\n",
      "3        Null\n",
      "4        Null\n",
      "         ... \n",
      "90942    Null\n",
      "90943    Null\n",
      "90944    Null\n",
      "90945    Null\n",
      "90946    Null\n",
      "Name: Label, Length: 90947, dtype: object\n"
     ]
    }
   ],
   "source": [
    "import pandas as pd\n",
    "file = pd.read_csv(\"../Collected Data/Collected Updated Labeled Data - Phase 01/Participant 20.csv\")\n",
    "labels = file['Label']\n",
    "timestamps = file['Timestamp']\n",
    "print(timestamps)\n",
    "print(labels)"
   ]
  },
  {
   "cell_type": "code",
   "execution_count": 23,
   "id": "9a01e5c2-e351-4e14-902d-cfa2da25d52c",
   "metadata": {},
   "outputs": [
    {
     "name": "stdout",
     "output_type": "stream",
     "text": [
      "{'Lift down': 304.8578796386602, 'Null': 1032.0903320312405, 'Stairs up': 123.79373168948001, 'Stairs down': 121.85430908204006, 'Lift up': 219.05026245115988}\n"
     ]
    }
   ],
   "source": [
    "d = dict()\n",
    "start = float(timestamps[0])\n",
    "end = 0\n",
    "startlabel = labels[0]\n",
    "for ind, each in enumerate(labels):\n",
    "    if each != startlabel:\n",
    "        startlabel = each\n",
    "        end = float(timestamps[ind-1])\n",
    "        d[each] = d.get(each,0) + (end - start)\n",
    "        start = float(timestamps[ind])\n",
    "print(d)"
   ]
  },
  {
   "cell_type": "code",
   "execution_count": 24,
   "id": "245e1ad4-89d2-444b-8e02-39fcafb8ee8c",
   "metadata": {},
   "outputs": [
    {
     "name": "stdout",
     "output_type": "stream",
     "text": [
      "each class in minutes\n",
      "for class Lift down it is 5.080964660644337 minutes\n",
      "for class Null it is 17.201505533854007 minutes\n",
      "for class Stairs up it is 2.0632288614913334 minutes\n",
      "for class Stairs down it is 2.0309051513673344 minutes\n",
      "for class Lift up it is 3.6508377075193312 minutes\n",
      "total minutes:30.02744191487634\n"
     ]
    }
   ],
   "source": [
    "sum = 0\n",
    "print(\"each class in minutes\")\n",
    "for k,v in d.items():\n",
    "    print(f\"for class {k} it is {v/60} minutes\")\n",
    "    sum += v/60\n",
    "\n",
    "print(f\"total minutes:{sum}\")"
   ]
  },
  {
   "cell_type": "code",
   "execution_count": null,
   "id": "0018a678-d71f-4ca1-98ea-5d0f57d97c56",
   "metadata": {},
   "outputs": [],
   "source": []
  },
  {
   "cell_type": "code",
   "execution_count": null,
   "id": "4a88cccc-0a2f-472b-aa9b-e84f329fdd2e",
   "metadata": {},
   "outputs": [],
   "source": []
  },
  {
   "cell_type": "code",
   "execution_count": null,
   "id": "8fffde09-d30e-4d1d-9723-e409a5e4b7b0",
   "metadata": {},
   "outputs": [],
   "source": []
  }
 ],
 "metadata": {
  "kernelspec": {
   "display_name": "Python 3 (ipykernel)",
   "language": "python",
   "name": "python3"
  },
  "language_info": {
   "codemirror_mode": {
    "name": "ipython",
    "version": 3
   },
   "file_extension": ".py",
   "mimetype": "text/x-python",
   "name": "python",
   "nbconvert_exporter": "python",
   "pygments_lexer": "ipython3",
   "version": "3.9.19"
  }
 },
 "nbformat": 4,
 "nbformat_minor": 5
}
