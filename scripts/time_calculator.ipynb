{
 "cells": [
  {
   "cell_type": "code",
   "execution_count": 1,
   "id": "8f2d353c-511f-4bff-8564-4b9ca237cfd0",
   "metadata": {},
   "outputs": [
    {
     "name": "stdout",
     "output_type": "stream",
     "text": [
      "0           0.144531\n",
      "1           0.164551\n",
      "2           0.184540\n",
      "3           0.206940\n",
      "4           0.224518\n",
      "            ...     \n",
      "47013    1049.874725\n",
      "47014    1049.893097\n",
      "47015    1049.911469\n",
      "47016    1049.929932\n",
      "47017    1049.951813\n",
      "Name: Timestamp, Length: 47018, dtype: float64\n",
      "0           Null\n",
      "1           Null\n",
      "2           Null\n",
      "3           Null\n",
      "4           Null\n",
      "          ...   \n",
      "47013    Lift up\n",
      "47014    Lift up\n",
      "47015    Lift up\n",
      "47016    Lift up\n",
      "47017    Lift up\n",
      "Name: Label, Length: 47018, dtype: object\n"
     ]
    }
   ],
   "source": [
    "import pandas as pd\n",
    "file = pd.read_csv(\"../Collected Data/Collected Updated Labeled Data - Phase 01/Participant 05.csv\")\n",
    "labels = file['Label']\n",
    "timestamps = file['Timestamp']\n",
    "print(timestamps)\n",
    "print(labels)"
   ]
  },
  {
   "cell_type": "code",
   "execution_count": 2,
   "id": "9a01e5c2-e351-4e14-902d-cfa2da25d52c",
   "metadata": {},
   "outputs": [
    {
     "name": "stdout",
     "output_type": "stream",
     "text": [
      "{'Lift down': 123.81127929687, 'Null': 472.41052246098, 'Stairs up': 59.54431152344, 'Stairs down': 90.73248291015, 'Lift up': 290.56524658204006}\n"
     ]
    }
   ],
   "source": [
    "d = dict()\n",
    "start = float(timestamps[0])\n",
    "end = 0\n",
    "startlabel = labels[0]\n",
    "for ind, each in enumerate(labels):\n",
    "    if each != startlabel:\n",
    "        startlabel = each\n",
    "        end = float(timestamps[ind-1])\n",
    "        d[each] = d.get(each,0) + (end - start)\n",
    "        start = float(timestamps[ind])\n",
    "print(d)"
   ]
  },
  {
   "cell_type": "code",
   "execution_count": 3,
   "id": "245e1ad4-89d2-444b-8e02-39fcafb8ee8c",
   "metadata": {},
   "outputs": [
    {
     "name": "stdout",
     "output_type": "stream",
     "text": [
      "each class in minutes\n",
      "for class Lift down it is 2.0635213216145 minutes\n",
      "for class Null it is 7.873508707683 minutes\n",
      "for class Stairs up it is 0.9924051920573334 minutes\n",
      "for class Stairs down it is 1.5122080485025 minutes\n",
      "for class Lift up it is 4.842754109700667 minutes\n",
      "total minutes:17.284397379558\n"
     ]
    }
   ],
   "source": [
    "sum = 0\n",
    "print(\"each class in minutes\")\n",
    "for k,v in d.items():\n",
    "    print(f\"for class {k} it is {v/60} minutes\")\n",
    "    sum += v/60\n",
    "\n",
    "print(f\"total minutes:{sum}\")"
   ]
  },
  {
   "cell_type": "code",
   "execution_count": null,
   "id": "0018a678-d71f-4ca1-98ea-5d0f57d97c56",
   "metadata": {},
   "outputs": [],
   "source": []
  },
  {
   "cell_type": "code",
   "execution_count": null,
   "id": "4a88cccc-0a2f-472b-aa9b-e84f329fdd2e",
   "metadata": {},
   "outputs": [],
   "source": []
  },
  {
   "cell_type": "code",
   "execution_count": null,
   "id": "8fffde09-d30e-4d1d-9723-e409a5e4b7b0",
   "metadata": {},
   "outputs": [],
   "source": []
  }
 ],
 "metadata": {
  "kernelspec": {
   "display_name": "Python 3 (ipykernel)",
   "language": "python",
   "name": "python3"
  },
  "language_info": {
   "codemirror_mode": {
    "name": "ipython",
    "version": 3
   },
   "file_extension": ".py",
   "mimetype": "text/x-python",
   "name": "python",
   "nbconvert_exporter": "python",
   "pygments_lexer": "ipython3",
   "version": "3.9.19"
  }
 },
 "nbformat": 4,
 "nbformat_minor": 5
}
