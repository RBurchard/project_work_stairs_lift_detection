{
 "cells": [
  {
   "cell_type": "code",
   "execution_count": 25,
   "id": "8f2d353c-511f-4bff-8564-4b9ca237cfd0",
   "metadata": {},
   "outputs": [
    {
     "name": "stdout",
     "output_type": "stream",
     "text": [
      "0           0.090302\n",
      "1           0.110107\n",
      "2           0.130035\n",
      "3           0.150146\n",
      "4           0.170074\n",
      "            ...     \n",
      "90148    1803.008728\n",
      "90149    1803.028351\n",
      "90150    1803.048340\n",
      "90151    1803.068359\n",
      "90152    1803.090515\n",
      "Name: Timestamp, Length: 90153, dtype: float64\n",
      "0        Null\n",
      "1        Null\n",
      "2        Null\n",
      "3        Null\n",
      "4        Null\n",
      "         ... \n",
      "90148    Null\n",
      "90149    Null\n",
      "90150    Null\n",
      "90151    Null\n",
      "90152    Null\n",
      "Name: Label, Length: 90153, dtype: object\n"
     ]
    }
   ],
   "source": [
    "import pandas as pd\n",
    "file = pd.read_csv(\"../Collected Data/Collected Updated Labeled Data - Phase 01/Participant 10.csv\")\n",
    "labels = file['Label']\n",
    "timestamps = file['Timestamp']\n",
    "print(timestamps)\n",
    "print(labels)"
   ]
  },
  {
   "cell_type": "code",
   "execution_count": 26,
   "id": "9a01e5c2-e351-4e14-902d-cfa2da25d52c",
   "metadata": {},
   "outputs": [
    {
     "name": "stdout",
     "output_type": "stream",
     "text": [
      "{'Stairs down': 295.0793151855601, 'Null': 771.8863830566402, 'Lift down': 64.23419189453, 'Stairs up': 298.21234130858005, 'Lift up': 158.13052368164006}\n"
     ]
    }
   ],
   "source": [
    "d = dict()\n",
    "start = float(timestamps[0])\n",
    "end = 0\n",
    "startlabel = labels[0]\n",
    "for ind, each in enumerate(labels):\n",
    "    if each != startlabel:\n",
    "        startlabel = each\n",
    "        end = float(timestamps[ind-1])\n",
    "        d[each] = d.get(each,0) + (end - start)\n",
    "        start = float(timestamps[ind])\n",
    "print(d)"
   ]
  },
  {
   "cell_type": "code",
   "execution_count": 28,
   "id": "245e1ad4-89d2-444b-8e02-39fcafb8ee8c",
   "metadata": {},
   "outputs": [
    {
     "name": "stdout",
     "output_type": "stream",
     "text": [
      "each class in minutes\n",
      "for class Stairs down it is 4.917988586426002 minutes\n",
      "for class Null it is 12.864773050944002 minutes\n",
      "for class Lift down it is 1.0705698649088333 minutes\n",
      "for class Stairs up it is 4.970205688476335 minutes\n",
      "for class Lift up it is 2.635508728027334 minutes\n",
      "total minutes:26.459045918782508\n"
     ]
    }
   ],
   "source": [
    "sum = 0\n",
    "print(\"each class in minutes\")\n",
    "for k,v in d.items():\n",
    "    print(f\"for class {k} it is {v/60} minutes\")\n",
    "    sum += v/60\n",
    "\n",
    "print(f\"total minutes:{sum}\")"
   ]
  },
  {
   "cell_type": "code",
   "execution_count": null,
   "id": "0018a678-d71f-4ca1-98ea-5d0f57d97c56",
   "metadata": {},
   "outputs": [],
   "source": []
  },
  {
   "cell_type": "code",
   "execution_count": null,
   "id": "4a88cccc-0a2f-472b-aa9b-e84f329fdd2e",
   "metadata": {},
   "outputs": [],
   "source": []
  },
  {
   "cell_type": "code",
   "execution_count": null,
   "id": "8fffde09-d30e-4d1d-9723-e409a5e4b7b0",
   "metadata": {},
   "outputs": [],
   "source": []
  }
 ],
 "metadata": {
  "kernelspec": {
   "display_name": "Python 3 (ipykernel)",
   "language": "python",
   "name": "python3"
  },
  "language_info": {
   "codemirror_mode": {
    "name": "ipython",
    "version": 3
   },
   "file_extension": ".py",
   "mimetype": "text/x-python",
   "name": "python",
   "nbconvert_exporter": "python",
   "pygments_lexer": "ipython3",
   "version": "3.9.19"
  }
 },
 "nbformat": 4,
 "nbformat_minor": 5
}
